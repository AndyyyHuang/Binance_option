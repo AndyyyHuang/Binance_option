{
 "cells": [
  {
   "cell_type": "code",
   "execution_count": 61,
   "metadata": {
    "collapsed": true
   },
   "outputs": [],
   "source": [
    "import requests\n",
    "import time\n",
    "import json\n",
    "from urllib.parse import urljoin, urlencode\n",
    "import hmac\n",
    "import hashlib\n",
    "import hmac\n",
    "import hashlib\n",
    "import pandas as pd\n",
    "import numpy as np"
   ]
  },
  {
   "cell_type": "code",
   "execution_count": 22,
   "outputs": [],
   "source": [
    "proxies = {'http': 'http://127.0.0.1:1086',\n",
    "           'https': 'http://127.0.0.1:1086'}\n",
    "\n",
    "base_url = \"https://vapi.binance.com\"\n",
    "api_key = \"8YbN0qDgaPhYQCQjW8v2v3JOWNHoTjOZgLkXsF1MeT3BY4Lu1TzVrPCd3SQRSBuf\"\n",
    "api_secret = \"GNStPoGYiM5fb03fJUx0uSnltJUK8IPTF8f8nk1LcHl6mqsVHDuEs9AIO0GWHUCe\"\n",
    "headers = {\n",
    "    'X-MBX-APIKEY': api_key\n",
    "}"
   ],
   "metadata": {
    "collapsed": false,
    "pycharm": {
     "name": "#%%\n"
    }
   }
  },
  {
   "cell_type": "code",
   "execution_count": 8,
   "outputs": [],
   "source": [
    "class BinanceException(Exception):\n",
    "    def __init__(self, status_code, data):\n",
    "        self.status_code = status_code\n",
    "        if data:\n",
    "            self.code = data['code']\n",
    "            self.msg = data['msg']\n",
    "        else:\n",
    "            self.code = None\n",
    "            self.msg = None\n",
    "        message = f\"{status_code} [{self.code}] {self.msg}\"\n",
    "\n",
    "        super().__init__(message)"
   ],
   "metadata": {
    "collapsed": false,
    "pycharm": {
     "name": "#%%\n"
    }
   }
  },
  {
   "cell_type": "code",
   "execution_count": 23,
   "outputs": [
    {
     "data": {
      "text/plain": "'{\"code\":0,\"msg\":\"success\"}'"
     },
     "execution_count": 23,
     "metadata": {},
     "output_type": "execute_result"
    }
   ],
   "source": [
    "path = \"/vapi/v1/ping\"\n",
    "url = urljoin(base_url, path)\n",
    "r = requests.get(url, headers=headers, proxies=proxies)\n",
    "r.text"
   ],
   "metadata": {
    "collapsed": false,
    "pycharm": {
     "name": "#%%\n"
    }
   }
  },
  {
   "cell_type": "code",
   "execution_count": 55,
   "outputs": [
    {
     "data": {
      "text/plain": "1648189263.655469"
     },
     "execution_count": 55,
     "metadata": {},
     "output_type": "execute_result"
    }
   ],
   "source": [
    "time.time()"
   ],
   "metadata": {
    "collapsed": false,
    "pycharm": {
     "name": "#%%\n"
    }
   }
  },
  {
   "cell_type": "code",
   "execution_count": 101,
   "outputs": [],
   "source": [
    "class binance_option_api():\n",
    "    def __init__(self, api_key, api_secret, proxies):\n",
    "        self.api_key = api_key\n",
    "        self.api_secret = api_secret\n",
    "        self.headers = {\n",
    "            'X-MBX-APIKEY': api_key\n",
    "        }\n",
    "        self.proxies = proxies\n",
    "        self.base_url = \"https://vapi.binance.com\"\n",
    "\n",
    "    def get_option_info(self):\n",
    "        path = \"/vapi/v1/optionInfo\"\n",
    "        url = urljoin(self.base_url, path)\n",
    "        params = None\n",
    "        r = requests.get(url=url, headers=self.headers, params=params, proxies=self.proxies)\n",
    "        if r.status_code == 200:\n",
    "            return r.json()['data']\n",
    "        else:\n",
    "            raise BinanceException(status_code=r.status_code, data=r.json())\n",
    "\n",
    "    def get_exchange_info(self):\n",
    "        path = \"/vapi/v1/exchangeInfo\"\n",
    "        url = urljoin(self.base_url, path)\n",
    "        params = None\n",
    "        r = requests.get(url=url, headers=self.headers, params=params, proxies=self.proxies)\n",
    "        if r.status_code == 200:\n",
    "            return r.json()['data']\n",
    "        else:\n",
    "            raise BinanceException(status_code=r.status_code, data=r.json())\n",
    "\n",
    "    def get_spot_price(self, underlying: str):\n",
    "        path = \"/vapi/v1/index\"\n",
    "        url = urljoin(self.base_url, path)\n",
    "        params = {\"underlying\": underlying}\n",
    "        r = requests.get(url=url, headers=self.headers, params=params, proxies=self.proxies)\n",
    "        if r.status_code == 200:\n",
    "            return r.json()['data']\n",
    "        else:\n",
    "            raise BinanceException(status_code=r.status_code, data=r.json())\n",
    "\n",
    "    def get_latest_24h_price(self, symbol: str):\n",
    "        path = \"/vapi/v1/ticker\"\n",
    "        url = urljoin(self.base_url, path)\n",
    "        params = {\"symbol\": symbol}\n",
    "        r = requests.get(url=url, headers=self.headers, params=params, proxies=self.proxies)\n",
    "        if r.status_code == 200:\n",
    "            return r.json()['data']\n",
    "        else:\n",
    "            raise BinanceException(status_code=r.status_code, data=r.json())\n",
    "\n",
    "    def get_latest_24h_price(self, symbol: str):\n",
    "        path = \"/vapi/v1/ticker\"\n",
    "        url = urljoin(self.base_url, path)\n",
    "        params = {\"symbol\": symbol}\n",
    "        r = requests.get(url=url, headers=self.headers, params=params, proxies=self.proxies)\n",
    "        if r.status_code == 200:\n",
    "            return r.json()['data']\n",
    "        else:\n",
    "            raise BinanceException(status_code=r.status_code, data=r.json())\n",
    "\n",
    "    def get_mark_price(self, symbol: str):\n",
    "        path = \"/vapi/v1/mark\"\n",
    "        url = urljoin(self.base_url, path)\n",
    "        params = {\"symbol\": symbol}\n",
    "        r = requests.get(url=url, headers=self.headers, params=params, proxies=self.proxies)\n",
    "        if r.status_code == 200:\n",
    "            return r.json()['data']\n",
    "        else:\n",
    "            raise BinanceException(status_code=r.status_code, data=r.json())\n",
    "\n",
    "    def get_depth(self, symbol: str, limit: int=10):\n",
    "\n",
    "        path = \"/vapi/v1/depth\"\n",
    "        url = urljoin(self.base_url, path)\n",
    "        params = {\"symbol\": symbol, \"limit\": limit}\n",
    "        r = requests.get(url=url, headers=self.headers, params=params, proxies=self.proxies)\n",
    "        if r.status_code == 200:\n",
    "            return r.json()['data']\n",
    "        else:\n",
    "            raise BinanceException(status_code=r.status_code, data=r.json())\n",
    "\n",
    "    def get_k_line(self, symbol: str, interval: str, start_time: str, end_time: str, limit: int):\n",
    "        path = \"/vapi/v1/klines\"\n",
    "        url = urljoin(self.base_url, path)\n",
    "        params = {\"symbol\": symbol, 'interval': interval, 'startTime': start_time, 'endTime': end_time, \"limit\": limit}\n",
    "        r = requests.get(url=url, headers=self.headers, params=params, proxies=self.proxies)\n",
    "        if r.status_code == 200:\n",
    "            return r.json()['data']\n",
    "        else:\n",
    "            raise BinanceException(status_code=r.status_code, data=r.json())\n",
    "\n",
    "    def get_latest_trades(self, symbol: str, limit: int=10):\n",
    "        path = \"/vapi/v1/trades\"\n",
    "        url = urljoin(self.base_url, path)\n",
    "        params = {\"symbol\": symbol, \"limit\": limit}\n",
    "        r = requests.get(url=url, headers=self.headers, params=params, proxies=self.proxies)\n",
    "        if r.status_code == 200:\n",
    "            return r.json()['data']\n",
    "        else:\n",
    "            raise BinanceException(status_code=r.status_code, data=r.json())\n",
    "\n",
    "    def make_single_order(self, **params):\n",
    "        path = \"/vapi/v1/order\"\n",
    "        url = urljoin(self.base_url, path)\n",
    "        query_string = urlencode(params)\n",
    "        params['signature'] = hmac.new(self.api_secret.encode('utf-8'), query_string.encode('utf-8'), hashlib.sha256).hexdigest()\n",
    "        r = requests.get(url=url, headers=self.headers, params=params, proxies=self.proxies)\n",
    "        if r.status_code == 200:\n",
    "            return r.json()['data']\n",
    "        else:\n",
    "            raise BinanceException(status_code=r.status_code, data=r.json())\n",
    "\n",
    "    def get_option_left_days(self, symbol: str):\n",
    "\n",
    "        temp = pd.DataFrame(self.get_option_info())\n",
    "        expire = temp['expiryDate'].loc[temp.symbol == symbol].values[0] / 1000\n",
    "        now = round(time.time())\n",
    "        left_days = (expire - now) / (3600 * 24)\n",
    "\n",
    "        return round(left_days, 3)"
   ],
   "metadata": {
    "collapsed": false,
    "pycharm": {
     "name": "#%%\n"
    }
   }
  },
  {
   "cell_type": "code",
   "execution_count": 101,
   "outputs": [],
   "source": [],
   "metadata": {
    "collapsed": false,
    "pycharm": {
     "name": "#%%\n"
    }
   }
  },
  {
   "cell_type": "code",
   "execution_count": 102,
   "outputs": [],
   "source": [
    "client = binance_option_api(api_key=api_key, api_secret=api_secret, proxies=proxies)"
   ],
   "metadata": {
    "collapsed": false,
    "pycharm": {
     "name": "#%%\n"
    }
   }
  },
  {
   "cell_type": "code",
   "execution_count": 106,
   "outputs": [],
   "source": [
    "left_days = client.get_option_left_days(symbol='BTC-220429-45000-C')"
   ],
   "metadata": {
    "collapsed": false,
    "pycharm": {
     "name": "#%%\n"
    }
   }
  },
  {
   "cell_type": "code",
   "execution_count": null,
   "outputs": [],
   "source": [],
   "metadata": {
    "collapsed": false,
    "pycharm": {
     "name": "#%%\n"
    }
   }
  },
  {
   "cell_type": "code",
   "execution_count": 88,
   "outputs": [],
   "source": [
    "temp = client.get_latest_24h_price(symbol='BTC-220429-45000-C')"
   ],
   "metadata": {
    "collapsed": false,
    "pycharm": {
     "name": "#%%\n"
    }
   }
  },
  {
   "cell_type": "code",
   "execution_count": 91,
   "outputs": [],
   "source": [
    "temp = client.get_option_info()"
   ],
   "metadata": {
    "collapsed": false,
    "pycharm": {
     "name": "#%%\n"
    }
   }
  },
  {
   "cell_type": "code",
   "execution_count": 92,
   "outputs": [
    {
     "data": {
      "text/plain": "[{'id': 3363,\n  'contractId': 1,\n  'underlying': 'BTCUSDT',\n  'quoteAsset': 'USDT',\n  'symbol': 'BTC-220325-38000-P',\n  'unit': '1',\n  'minQty': '0.0002',\n  'maxQty': '10000',\n  'priceScale': 2,\n  'quantityScale': 4,\n  'side': 'PUT',\n  'leverage': '9999',\n  'strikePrice': '38000',\n  'makerFeeRate': '0.0003',\n  'takerFeeRate': '0.0003',\n  'initialMargin': '0.15',\n  'autoReduceMargin': '0.075',\n  'maintenanceMargin': '0.02',\n  'minInitialMargin': '0.1',\n  'minAutoReduceMargin': '0.05',\n  'minMaintenanceMargin': '0.013',\n  'expiryDate': 1648195200000,\n  'filters': [{'filterType': 'PRICE_FILTER',\n    'minPrice': '0.02',\n    'maxPrice': '1766.06',\n    'tickSize': '0.01'},\n   {'filterType': 'LOT_SIZE',\n    'minQty': '0.0002',\n    'maxQty': '10000',\n    'stepSize': '0.0001'}]},\n {'id': 3025,\n  'contractId': 1,\n  'underlying': 'BTCUSDT',\n  'quoteAsset': 'USDT',\n  'symbol': 'BTC-220325-55000-C',\n  'unit': '1',\n  'minQty': '0.0002',\n  'maxQty': '10000',\n  'priceScale': 2,\n  'quantityScale': 4,\n  'side': 'CALL',\n  'leverage': '9999',\n  'strikePrice': '55000',\n  'makerFeeRate': '0.0003',\n  'takerFeeRate': '0.0003',\n  'initialMargin': '0.15',\n  'autoReduceMargin': '0.075',\n  'maintenanceMargin': '0.02',\n  'minInitialMargin': '0.1',\n  'minAutoReduceMargin': '0.05',\n  'minMaintenanceMargin': '0.013',\n  'expiryDate': 1648195200000,\n  'filters': [{'filterType': 'PRICE_FILTER',\n    'minPrice': '0.02',\n    'maxPrice': '1766.06',\n    'tickSize': '0.01'},\n   {'filterType': 'LOT_SIZE',\n    'minQty': '0.0002',\n    'maxQty': '10000',\n    'stepSize': '0.0001'}]},\n {'id': 3035,\n  'contractId': 1,\n  'underlying': 'BTCUSDT',\n  'quoteAsset': 'USDT',\n  'symbol': 'BTC-220325-70000-P',\n  'unit': '1',\n  'minQty': '0.0002',\n  'maxQty': '10000',\n  'priceScale': 2,\n  'quantityScale': 4,\n  'side': 'PUT',\n  'leverage': '1',\n  'strikePrice': '70000',\n  'makerFeeRate': '0.0003',\n  'takerFeeRate': '0.0003',\n  'initialMargin': '0.15',\n  'autoReduceMargin': '0.075',\n  'maintenanceMargin': '0.02',\n  'minInitialMargin': '0.1',\n  'minAutoReduceMargin': '0.05',\n  'minMaintenanceMargin': '0.013',\n  'expiryDate': 1648195200000,\n  'filters': [{'filterType': 'PRICE_FILTER',\n    'minPrice': '25186.37',\n    'maxPrice': '26510.91',\n    'tickSize': '0.01'},\n   {'filterType': 'LOT_SIZE',\n    'minQty': '0.0002',\n    'maxQty': '10000',\n    'stepSize': '0.0001'}]},\n {'id': 3027,\n  'contractId': 1,\n  'underlying': 'BTCUSDT',\n  'quoteAsset': 'USDT',\n  'symbol': 'BTC-220325-55000-P',\n  'unit': '1',\n  'minQty': '0.0002',\n  'maxQty': '10000',\n  'priceScale': 2,\n  'quantityScale': 4,\n  'side': 'PUT',\n  'leverage': '4',\n  'strikePrice': '55000',\n  'makerFeeRate': '0.0003',\n  'takerFeeRate': '0.0003',\n  'initialMargin': '0.15',\n  'autoReduceMargin': '0.075',\n  'maintenanceMargin': '0.02',\n  'minInitialMargin': '0.1',\n  'minAutoReduceMargin': '0.05',\n  'minMaintenanceMargin': '0.013',\n  'expiryDate': 1648195200000,\n  'filters': [{'filterType': 'PRICE_FILTER',\n    'minPrice': '10186.37',\n    'maxPrice': '11510.91',\n    'tickSize': '0.01'},\n   {'filterType': 'LOT_SIZE',\n    'minQty': '0.0002',\n    'maxQty': '10000',\n    'stepSize': '0.0001'}]},\n {'id': 3215,\n  'contractId': 1,\n  'underlying': 'BTCUSDT',\n  'quoteAsset': 'USDT',\n  'symbol': 'BTC-220429-80000-P',\n  'unit': '1',\n  'minQty': '0.0002',\n  'maxQty': '10000',\n  'priceScale': 2,\n  'quantityScale': 4,\n  'side': 'PUT',\n  'leverage': '1',\n  'strikePrice': '80000',\n  'makerFeeRate': '0.0003',\n  'takerFeeRate': '0.0003',\n  'initialMargin': '0.15',\n  'autoReduceMargin': '0.075',\n  'maintenanceMargin': '0.02',\n  'minInitialMargin': '0.1',\n  'minAutoReduceMargin': '0.05',\n  'minMaintenanceMargin': '0.013',\n  'expiryDate': 1651219200000,\n  'filters': [{'filterType': 'PRICE_FILTER',\n    'minPrice': '35284.03',\n    'maxPrice': '36608.57',\n    'tickSize': '0.01'},\n   {'filterType': 'LOT_SIZE',\n    'minQty': '0.0002',\n    'maxQty': '10000',\n    'stepSize': '0.0001'}]},\n {'id': 3181,\n  'contractId': 1,\n  'underlying': 'BTCUSDT',\n  'quoteAsset': 'USDT',\n  'symbol': 'BTC-220429-25000-C',\n  'unit': '1',\n  'minQty': '0.0002',\n  'maxQty': '10000',\n  'priceScale': 2,\n  'quantityScale': 4,\n  'side': 'CALL',\n  'leverage': '2',\n  'strikePrice': '25000',\n  'makerFeeRate': '0.0003',\n  'takerFeeRate': '0.0003',\n  'initialMargin': '0.15',\n  'autoReduceMargin': '0.075',\n  'maintenanceMargin': '0.02',\n  'minInitialMargin': '0.1',\n  'minAutoReduceMargin': '0.05',\n  'minMaintenanceMargin': '0.013',\n  'expiryDate': 1651219200000,\n  'filters': [{'filterType': 'PRICE_FILTER',\n    'minPrice': '18559.39',\n    'maxPrice': '19883.93',\n    'tickSize': '0.01'},\n   {'filterType': 'LOT_SIZE',\n    'minQty': '0.0002',\n    'maxQty': '10000',\n    'stepSize': '0.0001'}]},\n {'id': 3007,\n  'contractId': 1,\n  'underlying': 'BTCUSDT',\n  'quoteAsset': 'USDT',\n  'symbol': 'BTC-220325-30000-P',\n  'unit': '1',\n  'minQty': '0.0002',\n  'maxQty': '10000',\n  'priceScale': 2,\n  'quantityScale': 4,\n  'side': 'PUT',\n  'leverage': '9999',\n  'strikePrice': '30000',\n  'makerFeeRate': '0.0003',\n  'takerFeeRate': '0.0003',\n  'initialMargin': '0.15',\n  'autoReduceMargin': '0.075',\n  'maintenanceMargin': '0.02',\n  'minInitialMargin': '0.1',\n  'minAutoReduceMargin': '0.05',\n  'minMaintenanceMargin': '0.013',\n  'expiryDate': 1648195200000,\n  'filters': [{'filterType': 'PRICE_FILTER',\n    'minPrice': '0.02',\n    'maxPrice': '1766.06',\n    'tickSize': '0.01'},\n   {'filterType': 'LOT_SIZE',\n    'minQty': '0.0002',\n    'maxQty': '10000',\n    'stepSize': '0.0001'}]},\n {'id': 3195,\n  'contractId': 1,\n  'underlying': 'BTCUSDT',\n  'quoteAsset': 'USDT',\n  'symbol': 'BTC-220429-40000-P',\n  'unit': '1',\n  'minQty': '0.0002',\n  'maxQty': '10000',\n  'priceScale': 2,\n  'quantityScale': 4,\n  'side': 'PUT',\n  'leverage': '7',\n  'strikePrice': '40000',\n  'makerFeeRate': '0.0003',\n  'takerFeeRate': '0.0003',\n  'initialMargin': '0.15',\n  'autoReduceMargin': '0.075',\n  'maintenanceMargin': '0.02',\n  'minInitialMargin': '0.1',\n  'minAutoReduceMargin': '0.05',\n  'minMaintenanceMargin': '0.013',\n  'expiryDate': 1651219200000,\n  'filters': [{'filterType': 'PRICE_FILTER',\n    'minPrice': '428.86',\n    'maxPrice': '2980.2',\n    'tickSize': '0.01'},\n   {'filterType': 'LOT_SIZE',\n    'minQty': '0.0002',\n    'maxQty': '10000',\n    'stepSize': '0.0001'}]},\n {'id': 3203,\n  'contractId': 1,\n  'underlying': 'BTCUSDT',\n  'quoteAsset': 'USDT',\n  'symbol': 'BTC-220429-50000-P',\n  'unit': '1',\n  'minQty': '0.0002',\n  'maxQty': '10000',\n  'priceScale': 2,\n  'quantityScale': 4,\n  'side': 'PUT',\n  'leverage': '4',\n  'strikePrice': '50000',\n  'makerFeeRate': '0.0003',\n  'takerFeeRate': '0.0003',\n  'initialMargin': '0.15',\n  'autoReduceMargin': '0.075',\n  'maintenanceMargin': '0.02',\n  'minInitialMargin': '0.1',\n  'minAutoReduceMargin': '0.05',\n  'minMaintenanceMargin': '0.013',\n  'expiryDate': 1651219200000,\n  'filters': [{'filterType': 'PRICE_FILTER',\n    'minPrice': '6340.83',\n    'maxPrice': '7787.55',\n    'tickSize': '0.01'},\n   {'filterType': 'LOT_SIZE',\n    'minQty': '0.0002',\n    'maxQty': '10000',\n    'stepSize': '0.0001'}]},\n {'id': 3031,\n  'contractId': 1,\n  'underlying': 'BTCUSDT',\n  'quoteAsset': 'USDT',\n  'symbol': 'BTC-220325-60000-P',\n  'unit': '1',\n  'minQty': '0.0002',\n  'maxQty': '10000',\n  'priceScale': 2,\n  'quantityScale': 4,\n  'side': 'PUT',\n  'leverage': '2',\n  'strikePrice': '60000',\n  'makerFeeRate': '0.0003',\n  'takerFeeRate': '0.0003',\n  'initialMargin': '0.15',\n  'autoReduceMargin': '0.075',\n  'maintenanceMargin': '0.02',\n  'minInitialMargin': '0.1',\n  'minAutoReduceMargin': '0.05',\n  'minMaintenanceMargin': '0.013',\n  'expiryDate': 1648195200000,\n  'filters': [{'filterType': 'PRICE_FILTER',\n    'minPrice': '15186.37',\n    'maxPrice': '16510.91',\n    'tickSize': '0.01'},\n   {'filterType': 'LOT_SIZE',\n    'minQty': '0.0002',\n    'maxQty': '10000',\n    'stepSize': '0.0001'}]},\n {'id': 3367,\n  'contractId': 1,\n  'underlying': 'BTCUSDT',\n  'quoteAsset': 'USDT',\n  'symbol': 'BTC-220325-42000-P',\n  'unit': '1',\n  'minQty': '0.0002',\n  'maxQty': '10000',\n  'priceScale': 2,\n  'quantityScale': 4,\n  'side': 'PUT',\n  'leverage': '275',\n  'strikePrice': '42000',\n  'makerFeeRate': '0.0003',\n  'takerFeeRate': '0.0003',\n  'initialMargin': '0.15',\n  'autoReduceMargin': '0.075',\n  'maintenanceMargin': '0.02',\n  'minInitialMargin': '0.1',\n  'minAutoReduceMargin': '0.05',\n  'minMaintenanceMargin': '0.013',\n  'expiryDate': 1648195200000,\n  'filters': [{'filterType': 'PRICE_FILTER',\n    'minPrice': '0.02',\n    'maxPrice': '1788.11',\n    'tickSize': '0.01'},\n   {'filterType': 'LOT_SIZE',\n    'minQty': '0.0002',\n    'maxQty': '10000',\n    'stepSize': '0.0001'}]},\n {'id': 3209,\n  'contractId': 1,\n  'underlying': 'BTCUSDT',\n  'quoteAsset': 'USDT',\n  'symbol': 'BTC-220429-70000-C',\n  'unit': '1',\n  'minQty': '0.0002',\n  'maxQty': '10000',\n  'priceScale': 2,\n  'quantityScale': 4,\n  'side': 'CALL',\n  'leverage': '12',\n  'strikePrice': '70000',\n  'makerFeeRate': '0.0003',\n  'takerFeeRate': '0.0003',\n  'initialMargin': '0.15',\n  'autoReduceMargin': '0.075',\n  'maintenanceMargin': '0.02',\n  'minInitialMargin': '0.1',\n  'minAutoReduceMargin': '0.05',\n  'minMaintenanceMargin': '0.013',\n  'expiryDate': 1651219200000,\n  'filters': [{'filterType': 'PRICE_FILTER',\n    'minPrice': '0.02',\n    'maxPrice': '1824.04',\n    'tickSize': '0.01'},\n   {'filterType': 'LOT_SIZE',\n    'minQty': '0.0002',\n    'maxQty': '10000',\n    'stepSize': '0.0001'}]},\n {'id': 3211,\n  'contractId': 1,\n  'underlying': 'BTCUSDT',\n  'quoteAsset': 'USDT',\n  'symbol': 'BTC-220429-70000-P',\n  'unit': '1',\n  'minQty': '0.0002',\n  'maxQty': '10000',\n  'priceScale': 2,\n  'quantityScale': 4,\n  'side': 'PUT',\n  'leverage': '1',\n  'strikePrice': '70000',\n  'makerFeeRate': '0.0003',\n  'takerFeeRate': '0.0003',\n  'initialMargin': '0.15',\n  'autoReduceMargin': '0.075',\n  'maintenanceMargin': '0.02',\n  'minInitialMargin': '0.1',\n  'minAutoReduceMargin': '0.05',\n  'minMaintenanceMargin': '0.013',\n  'expiryDate': 1651219200000,\n  'filters': [{'filterType': 'PRICE_FILTER',\n    'minPrice': '25502.43',\n    'maxPrice': '26826.97',\n    'tickSize': '0.01'},\n   {'filterType': 'LOT_SIZE',\n    'minQty': '0.0002',\n    'maxQty': '10000',\n    'stepSize': '0.0001'}]},\n {'id': 3361,\n  'contractId': 1,\n  'underlying': 'BTCUSDT',\n  'quoteAsset': 'USDT',\n  'symbol': 'BTC-220325-38000-C',\n  'unit': '1',\n  'minQty': '0.0002',\n  'maxQty': '10000',\n  'priceScale': 2,\n  'quantityScale': 4,\n  'side': 'CALL',\n  'leverage': '7',\n  'strikePrice': '38000',\n  'makerFeeRate': '0.0003',\n  'takerFeeRate': '0.0003',\n  'initialMargin': '0.15',\n  'autoReduceMargin': '0.075',\n  'maintenanceMargin': '0.02',\n  'minInitialMargin': '0.1',\n  'minAutoReduceMargin': '0.05',\n  'minMaintenanceMargin': '0.013',\n  'expiryDate': 1648195200000,\n  'filters': [{'filterType': 'PRICE_FILTER',\n    'minPrice': '5489.08',\n    'maxPrice': '6813.62',\n    'tickSize': '0.01'},\n   {'filterType': 'LOT_SIZE',\n    'minQty': '0.0002',\n    'maxQty': '10000',\n    'stepSize': '0.0001'}]},\n {'id': 3179,\n  'contractId': 1,\n  'underlying': 'BTCUSDT',\n  'quoteAsset': 'USDT',\n  'symbol': 'BTC-220429-20000-P',\n  'unit': '1',\n  'minQty': '0.0002',\n  'maxQty': '10000',\n  'priceScale': 2,\n  'quantityScale': 4,\n  'side': 'PUT',\n  'leverage': '7',\n  'strikePrice': '20000',\n  'makerFeeRate': '0.0003',\n  'takerFeeRate': '0.0003',\n  'initialMargin': '0.15',\n  'autoReduceMargin': '0.075',\n  'maintenanceMargin': '0.02',\n  'minInitialMargin': '0.1',\n  'minAutoReduceMargin': '0.05',\n  'minMaintenanceMargin': '0.013',\n  'expiryDate': 1651219200000,\n  'filters': [{'filterType': 'PRICE_FILTER',\n    'minPrice': '0.02',\n    'maxPrice': '1802.51',\n    'tickSize': '0.01'},\n   {'filterType': 'LOT_SIZE',\n    'minQty': '0.0002',\n    'maxQty': '10000',\n    'stepSize': '0.0001'}]},\n {'id': 3183,\n  'contractId': 1,\n  'underlying': 'BTCUSDT',\n  'quoteAsset': 'USDT',\n  'symbol': 'BTC-220429-25000-P',\n  'unit': '1',\n  'minQty': '0.0002',\n  'maxQty': '10000',\n  'priceScale': 2,\n  'quantityScale': 4,\n  'side': 'PUT',\n  'leverage': '7',\n  'strikePrice': '25000',\n  'makerFeeRate': '0.0003',\n  'takerFeeRate': '0.0003',\n  'initialMargin': '0.15',\n  'autoReduceMargin': '0.075',\n  'maintenanceMargin': '0.02',\n  'minInitialMargin': '0.1',\n  'minAutoReduceMargin': '0.05',\n  'minMaintenanceMargin': '0.013',\n  'expiryDate': 1651219200000,\n  'filters': [{'filterType': 'PRICE_FILTER',\n    'minPrice': '0.02',\n    'maxPrice': '1864.92',\n    'tickSize': '0.01'},\n   {'filterType': 'LOT_SIZE',\n    'minQty': '0.0002',\n    'maxQty': '10000',\n    'stepSize': '0.0001'}]},\n {'id': 3009,\n  'contractId': 1,\n  'underlying': 'BTCUSDT',\n  'quoteAsset': 'USDT',\n  'symbol': 'BTC-220325-35000-C',\n  'unit': '1',\n  'minQty': '0.0002',\n  'maxQty': '10000',\n  'priceScale': 2,\n  'quantityScale': 4,\n  'side': 'CALL',\n  'leverage': '4',\n  'strikePrice': '35000',\n  'makerFeeRate': '0.0003',\n  'takerFeeRate': '0.0003',\n  'initialMargin': '0.15',\n  'autoReduceMargin': '0.075',\n  'maintenanceMargin': '0.02',\n  'minInitialMargin': '0.1',\n  'minAutoReduceMargin': '0.05',\n  'minMaintenanceMargin': '0.013',\n  'expiryDate': 1648195200000,\n  'filters': [{'filterType': 'PRICE_FILTER',\n    'minPrice': '8489.08',\n    'maxPrice': '9813.62',\n    'tickSize': '0.01'},\n   {'filterType': 'LOT_SIZE',\n    'minQty': '0.0002',\n    'maxQty': '10000',\n    'stepSize': '0.0001'}]},\n {'id': 3021,\n  'contractId': 1,\n  'underlying': 'BTCUSDT',\n  'quoteAsset': 'USDT',\n  'symbol': 'BTC-220325-50000-C',\n  'unit': '1',\n  'minQty': '0.0002',\n  'maxQty': '10000',\n  'priceScale': 2,\n  'quantityScale': 4,\n  'side': 'CALL',\n  'leverage': '9999',\n  'strikePrice': '50000',\n  'makerFeeRate': '0.0003',\n  'takerFeeRate': '0.0003',\n  'initialMargin': '0.15',\n  'autoReduceMargin': '0.075',\n  'maintenanceMargin': '0.02',\n  'minInitialMargin': '0.1',\n  'minAutoReduceMargin': '0.05',\n  'minMaintenanceMargin': '0.013',\n  'expiryDate': 1648195200000,\n  'filters': [{'filterType': 'PRICE_FILTER',\n    'minPrice': '0.02',\n    'maxPrice': '1766.06',\n    'tickSize': '0.01'},\n   {'filterType': 'LOT_SIZE',\n    'minQty': '0.0002',\n    'maxQty': '10000',\n    'stepSize': '0.0001'}]},\n {'id': 3001,\n  'contractId': 1,\n  'underlying': 'BTCUSDT',\n  'quoteAsset': 'USDT',\n  'symbol': 'BTC-220325-25000-C',\n  'unit': '1',\n  'minQty': '0.0002',\n  'maxQty': '10000',\n  'priceScale': 2,\n  'quantityScale': 4,\n  'side': 'CALL',\n  'leverage': '2',\n  'strikePrice': '25000',\n  'makerFeeRate': '0.0003',\n  'takerFeeRate': '0.0003',\n  'initialMargin': '0.15',\n  'autoReduceMargin': '0.075',\n  'maintenanceMargin': '0.02',\n  'minInitialMargin': '0.1',\n  'minAutoReduceMargin': '0.05',\n  'minMaintenanceMargin': '0.013',\n  'expiryDate': 1648195200000,\n  'filters': [{'filterType': 'PRICE_FILTER',\n    'minPrice': '18489.08',\n    'maxPrice': '19813.62',\n    'tickSize': '0.01'},\n   {'filterType': 'LOT_SIZE',\n    'minQty': '0.0002',\n    'maxQty': '10000',\n    'stepSize': '0.0001'}]},\n {'id': 3033,\n  'contractId': 1,\n  'underlying': 'BTCUSDT',\n  'quoteAsset': 'USDT',\n  'symbol': 'BTC-220325-70000-C',\n  'unit': '1',\n  'minQty': '0.0002',\n  'maxQty': '10000',\n  'priceScale': 2,\n  'quantityScale': 4,\n  'side': 'CALL',\n  'leverage': '9999',\n  'strikePrice': '70000',\n  'makerFeeRate': '0.0003',\n  'takerFeeRate': '0.0003',\n  'initialMargin': '0.15',\n  'autoReduceMargin': '0.075',\n  'maintenanceMargin': '0.02',\n  'minInitialMargin': '0.1',\n  'minAutoReduceMargin': '0.05',\n  'minMaintenanceMargin': '0.013',\n  'expiryDate': 1648195200000,\n  'filters': [{'filterType': 'PRICE_FILTER',\n    'minPrice': '0.02',\n    'maxPrice': '1766.06',\n    'tickSize': '0.01'},\n   {'filterType': 'LOT_SIZE',\n    'minQty': '0.0002',\n    'maxQty': '10000',\n    'stepSize': '0.0001'}]},\n {'id': 3017,\n  'contractId': 1,\n  'underlying': 'BTCUSDT',\n  'quoteAsset': 'USDT',\n  'symbol': 'BTC-220325-45000-C',\n  'unit': '1',\n  'minQty': '0.0002',\n  'maxQty': '10000',\n  'priceScale': 2,\n  'quantityScale': 4,\n  'side': 'CALL',\n  'leverage': '282',\n  'strikePrice': '45000',\n  'makerFeeRate': '0.0003',\n  'takerFeeRate': '0.0003',\n  'initialMargin': '0.15',\n  'autoReduceMargin': '0.075',\n  'maintenanceMargin': '0.02',\n  'minInitialMargin': '0.1',\n  'minAutoReduceMargin': '0.05',\n  'minMaintenanceMargin': '0.013',\n  'expiryDate': 1648195200000,\n  'filters': [{'filterType': 'PRICE_FILTER',\n    'minPrice': '0.02',\n    'maxPrice': '2260.25',\n    'tickSize': '0.01'},\n   {'filterType': 'LOT_SIZE',\n    'minQty': '0.0002',\n    'maxQty': '10000',\n    'stepSize': '0.0001'}]},\n {'id': 3365,\n  'contractId': 1,\n  'underlying': 'BTCUSDT',\n  'quoteAsset': 'USDT',\n  'symbol': 'BTC-220325-42000-C',\n  'unit': '1',\n  'minQty': '0.0002',\n  'maxQty': '10000',\n  'priceScale': 2,\n  'quantityScale': 4,\n  'side': 'CALL',\n  'leverage': '20',\n  'strikePrice': '42000',\n  'makerFeeRate': '0.0003',\n  'takerFeeRate': '0.0003',\n  'initialMargin': '0.15',\n  'autoReduceMargin': '0.075',\n  'maintenanceMargin': '0.02',\n  'minInitialMargin': '0.1',\n  'minAutoReduceMargin': '0.05',\n  'minMaintenanceMargin': '0.013',\n  'expiryDate': 1648195200000,\n  'filters': [{'filterType': 'PRICE_FILTER',\n    'minPrice': '1489.08',\n    'maxPrice': '2813.62',\n    'tickSize': '0.01'},\n   {'filterType': 'LOT_SIZE',\n    'minQty': '0.0002',\n    'maxQty': '10000',\n    'stepSize': '0.0001'}]},\n {'id': 3037,\n  'contractId': 1,\n  'underlying': 'BTCUSDT',\n  'quoteAsset': 'USDT',\n  'symbol': 'BTC-220325-80000-C',\n  'unit': '1',\n  'minQty': '0.0002',\n  'maxQty': '10000',\n  'priceScale': 2,\n  'quantityScale': 4,\n  'side': 'CALL',\n  'leverage': '9999',\n  'strikePrice': '80000',\n  'makerFeeRate': '0.0003',\n  'takerFeeRate': '0.0003',\n  'initialMargin': '0.15',\n  'autoReduceMargin': '0.075',\n  'maintenanceMargin': '0.02',\n  'minInitialMargin': '0.1',\n  'minAutoReduceMargin': '0.05',\n  'minMaintenanceMargin': '0.013',\n  'expiryDate': 1648195200000,\n  'filters': [{'filterType': 'PRICE_FILTER',\n    'minPrice': '0.02',\n    'maxPrice': '1766.06',\n    'tickSize': '0.01'},\n   {'filterType': 'LOT_SIZE',\n    'minQty': '0.0002',\n    'maxQty': '10000',\n    'stepSize': '0.0001'}]},\n {'id': 2995,\n  'contractId': 1,\n  'underlying': 'BTCUSDT',\n  'quoteAsset': 'USDT',\n  'symbol': 'BTC-220325-15000-P',\n  'unit': '1',\n  'minQty': '0.0002',\n  'maxQty': '10000',\n  'priceScale': 2,\n  'quantityScale': 4,\n  'side': 'PUT',\n  'leverage': '9999',\n  'strikePrice': '15000',\n  'makerFeeRate': '0.0003',\n  'takerFeeRate': '0.0003',\n  'initialMargin': '0.15',\n  'autoReduceMargin': '0.075',\n  'maintenanceMargin': '0.02',\n  'minInitialMargin': '0.1',\n  'minAutoReduceMargin': '0.05',\n  'minMaintenanceMargin': '0.013',\n  'expiryDate': 1648195200000,\n  'filters': [{'filterType': 'PRICE_FILTER',\n    'minPrice': '0.02',\n    'maxPrice': '1766.06',\n    'tickSize': '0.01'},\n   {'filterType': 'LOT_SIZE',\n    'minQty': '0.0002',\n    'maxQty': '10000',\n    'stepSize': '0.0001'}]},\n {'id': 3185,\n  'contractId': 1,\n  'underlying': 'BTCUSDT',\n  'quoteAsset': 'USDT',\n  'symbol': 'BTC-220429-30000-C',\n  'unit': '1',\n  'minQty': '0.0002',\n  'maxQty': '10000',\n  'priceScale': 2,\n  'quantityScale': 4,\n  'side': 'CALL',\n  'leverage': '3',\n  'strikePrice': '30000',\n  'makerFeeRate': '0.0003',\n  'takerFeeRate': '0.0003',\n  'initialMargin': '0.15',\n  'autoReduceMargin': '0.075',\n  'maintenanceMargin': '0.02',\n  'minInitialMargin': '0.1',\n  'minAutoReduceMargin': '0.05',\n  'minMaintenanceMargin': '0.013',\n  'expiryDate': 1651219200000,\n  'filters': [{'filterType': 'PRICE_FILTER',\n    'minPrice': '13606.74',\n    'maxPrice': '14931.28',\n    'tickSize': '0.01'},\n   {'filterType': 'LOT_SIZE',\n    'minQty': '0.0002',\n    'maxQty': '10000',\n    'stepSize': '0.0001'}]},\n {'id': 3201,\n  'contractId': 1,\n  'underlying': 'BTCUSDT',\n  'quoteAsset': 'USDT',\n  'symbol': 'BTC-220429-50000-C',\n  'unit': '1',\n  'minQty': '0.0002',\n  'maxQty': '10000',\n  'priceScale': 2,\n  'quantityScale': 4,\n  'side': 'CALL',\n  'leverage': '8',\n  'strikePrice': '50000',\n  'makerFeeRate': '0.0003',\n  'takerFeeRate': '0.0003',\n  'initialMargin': '0.15',\n  'autoReduceMargin': '0.075',\n  'maintenanceMargin': '0.02',\n  'minInitialMargin': '0.1',\n  'minAutoReduceMargin': '0.05',\n  'minMaintenanceMargin': '0.013',\n  'expiryDate': 1651219200000,\n  'filters': [{'filterType': 'PRICE_FILTER',\n    'minPrice': '254.95',\n    'maxPrice': '2733.41',\n    'tickSize': '0.01'},\n   {'filterType': 'LOT_SIZE',\n    'minQty': '0.0002',\n    'maxQty': '10000',\n    'stepSize': '0.0001'}]},\n {'id': 3177,\n  'contractId': 1,\n  'underlying': 'BTCUSDT',\n  'quoteAsset': 'USDT',\n  'symbol': 'BTC-220429-20000-C',\n  'unit': '1',\n  'minQty': '0.0002',\n  'maxQty': '10000',\n  'priceScale': 2,\n  'quantityScale': 4,\n  'side': 'CALL',\n  'leverage': '1',\n  'strikePrice': '20000',\n  'makerFeeRate': '0.0003',\n  'takerFeeRate': '0.0003',\n  'initialMargin': '0.15',\n  'autoReduceMargin': '0.075',\n  'maintenanceMargin': '0.02',\n  'minInitialMargin': '0.1',\n  'minAutoReduceMargin': '0.05',\n  'minMaintenanceMargin': '0.013',\n  'expiryDate': 1651219200000,\n  'filters': [{'filterType': 'PRICE_FILTER',\n    'minPrice': '23494.56',\n    'maxPrice': '24819.1',\n    'tickSize': '0.01'},\n   {'filterType': 'LOT_SIZE',\n    'minQty': '0.0002',\n    'maxQty': '10000',\n    'stepSize': '0.0001'}]},\n {'id': 3003,\n  'contractId': 1,\n  'underlying': 'BTCUSDT',\n  'quoteAsset': 'USDT',\n  'symbol': 'BTC-220325-25000-P',\n  'unit': '1',\n  'minQty': '0.0002',\n  'maxQty': '10000',\n  'priceScale': 2,\n  'quantityScale': 4,\n  'side': 'PUT',\n  'leverage': '9999',\n  'strikePrice': '25000',\n  'makerFeeRate': '0.0003',\n  'takerFeeRate': '0.0003',\n  'initialMargin': '0.15',\n  'autoReduceMargin': '0.075',\n  'maintenanceMargin': '0.02',\n  'minInitialMargin': '0.1',\n  'minAutoReduceMargin': '0.05',\n  'minMaintenanceMargin': '0.013',\n  'expiryDate': 1648195200000,\n  'filters': [{'filterType': 'PRICE_FILTER',\n    'minPrice': '0.02',\n    'maxPrice': '1766.06',\n    'tickSize': '0.01'},\n   {'filterType': 'LOT_SIZE',\n    'minQty': '0.0002',\n    'maxQty': '10000',\n    'stepSize': '0.0001'}]},\n {'id': 2993,\n  'contractId': 1,\n  'underlying': 'BTCUSDT',\n  'quoteAsset': 'USDT',\n  'symbol': 'BTC-220325-15000-C',\n  'unit': '1',\n  'minQty': '0.0002',\n  'maxQty': '10000',\n  'priceScale': 2,\n  'quantityScale': 4,\n  'side': 'CALL',\n  'leverage': '1',\n  'strikePrice': '15000',\n  'makerFeeRate': '0.0003',\n  'takerFeeRate': '0.0003',\n  'initialMargin': '0.15',\n  'autoReduceMargin': '0.075',\n  'maintenanceMargin': '0.02',\n  'minInitialMargin': '0.1',\n  'minAutoReduceMargin': '0.05',\n  'minMaintenanceMargin': '0.013',\n  'expiryDate': 1648195200000,\n  'filters': [{'filterType': 'PRICE_FILTER',\n    'minPrice': '28489.08',\n    'maxPrice': '29813.62',\n    'tickSize': '0.01'},\n   {'filterType': 'LOT_SIZE',\n    'minQty': '0.0002',\n    'maxQty': '10000',\n    'stepSize': '0.0001'}]},\n {'id': 3189,\n  'contractId': 1,\n  'underlying': 'BTCUSDT',\n  'quoteAsset': 'USDT',\n  'symbol': 'BTC-220429-35000-C',\n  'unit': '1',\n  'minQty': '0.0002',\n  'maxQty': '10000',\n  'priceScale': 2,\n  'quantityScale': 4,\n  'side': 'CALL',\n  'leverage': '3',\n  'strikePrice': '35000',\n  'makerFeeRate': '0.0003',\n  'takerFeeRate': '0.0003',\n  'initialMargin': '0.15',\n  'autoReduceMargin': '0.075',\n  'maintenanceMargin': '0.02',\n  'minInitialMargin': '0.1',\n  'minAutoReduceMargin': '0.05',\n  'minMaintenanceMargin': '0.013',\n  'expiryDate': 1651219200000,\n  'filters': [{'filterType': 'PRICE_FILTER',\n    'minPrice': '9551.18',\n    'maxPrice': '10875.72',\n    'tickSize': '0.01'},\n   {'filterType': 'LOT_SIZE',\n    'minQty': '0.0002',\n    'maxQty': '10000',\n    'stepSize': '0.0001'}]},\n {'id': 3193,\n  'contractId': 1,\n  'underlying': 'BTCUSDT',\n  'quoteAsset': 'USDT',\n  'symbol': 'BTC-220429-40000-C',\n  'unit': '1',\n  'minQty': '0.0002',\n  'maxQty': '10000',\n  'priceScale': 2,\n  'quantityScale': 4,\n  'side': 'CALL',\n  'leverage': '5',\n  'strikePrice': '40000',\n  'makerFeeRate': '0.0003',\n  'takerFeeRate': '0.0003',\n  'initialMargin': '0.15',\n  'autoReduceMargin': '0.075',\n  'maintenanceMargin': '0.02',\n  'minInitialMargin': '0.1',\n  'minAutoReduceMargin': '0.05',\n  'minMaintenanceMargin': '0.013',\n  'expiryDate': 1651219200000,\n  'filters': [{'filterType': 'PRICE_FILTER',\n    'minPrice': '5198.48',\n    'maxPrice': '6689.12',\n    'tickSize': '0.01'},\n   {'filterType': 'LOT_SIZE',\n    'minQty': '0.0002',\n    'maxQty': '10000',\n    'stepSize': '0.0001'}]},\n {'id': 3191,\n  'contractId': 1,\n  'underlying': 'BTCUSDT',\n  'quoteAsset': 'USDT',\n  'symbol': 'BTC-220429-35000-P',\n  'unit': '1',\n  'minQty': '0.0002',\n  'maxQty': '10000',\n  'priceScale': 2,\n  'quantityScale': 4,\n  'side': 'PUT',\n  'leverage': '8',\n  'strikePrice': '35000',\n  'makerFeeRate': '0.0003',\n  'takerFeeRate': '0.0003',\n  'initialMargin': '0.15',\n  'autoReduceMargin': '0.075',\n  'maintenanceMargin': '0.02',\n  'minInitialMargin': '0.1',\n  'minAutoReduceMargin': '0.05',\n  'minMaintenanceMargin': '0.013',\n  'expiryDate': 1651219200000,\n  'filters': [{'filterType': 'PRICE_FILTER',\n    'minPrice': '0.02',\n    'maxPrice': '2124.1',\n    'tickSize': '0.01'},\n   {'filterType': 'LOT_SIZE',\n    'minQty': '0.0002',\n    'maxQty': '10000',\n    'stepSize': '0.0001'}]},\n {'id': 3013,\n  'contractId': 1,\n  'underlying': 'BTCUSDT',\n  'quoteAsset': 'USDT',\n  'symbol': 'BTC-220325-40000-C',\n  'unit': '1',\n  'minQty': '0.0002',\n  'maxQty': '10000',\n  'priceScale': 2,\n  'quantityScale': 4,\n  'side': 'CALL',\n  'leverage': '10',\n  'strikePrice': '40000',\n  'makerFeeRate': '0.0003',\n  'takerFeeRate': '0.0003',\n  'initialMargin': '0.15',\n  'autoReduceMargin': '0.075',\n  'maintenanceMargin': '0.02',\n  'minInitialMargin': '0.1',\n  'minAutoReduceMargin': '0.05',\n  'minMaintenanceMargin': '0.013',\n  'expiryDate': 1648195200000,\n  'filters': [{'filterType': 'PRICE_FILTER',\n    'minPrice': '3489.08',\n    'maxPrice': '4813.62',\n    'tickSize': '0.01'},\n   {'filterType': 'LOT_SIZE',\n    'minQty': '0.0002',\n    'maxQty': '10000',\n    'stepSize': '0.0001'}]},\n {'id': 3205,\n  'contractId': 1,\n  'underlying': 'BTCUSDT',\n  'quoteAsset': 'USDT',\n  'symbol': 'BTC-220429-60000-C',\n  'unit': '1',\n  'minQty': '0.0002',\n  'maxQty': '10000',\n  'priceScale': 2,\n  'quantityScale': 4,\n  'side': 'CALL',\n  'leverage': '11',\n  'strikePrice': '60000',\n  'makerFeeRate': '0.0003',\n  'takerFeeRate': '0.0003',\n  'initialMargin': '0.15',\n  'autoReduceMargin': '0.075',\n  'maintenanceMargin': '0.02',\n  'minInitialMargin': '0.1',\n  'minAutoReduceMargin': '0.05',\n  'minMaintenanceMargin': '0.013',\n  'expiryDate': 1651219200000,\n  'filters': [{'filterType': 'PRICE_FILTER',\n    'minPrice': '0.02',\n    'maxPrice': '1955.11',\n    'tickSize': '0.01'},\n   {'filterType': 'LOT_SIZE',\n    'minQty': '0.0002',\n    'maxQty': '10000',\n    'stepSize': '0.0001'}]},\n {'id': 3197,\n  'contractId': 1,\n  'underlying': 'BTCUSDT',\n  'quoteAsset': 'USDT',\n  'symbol': 'BTC-220429-45000-C',\n  'unit': '1',\n  'minQty': '0.0002',\n  'maxQty': '10000',\n  'priceScale': 2,\n  'quantityScale': 4,\n  'side': 'CALL',\n  'leverage': '7',\n  'strikePrice': '45000',\n  'makerFeeRate': '0.0003',\n  'takerFeeRate': '0.0003',\n  'initialMargin': '0.15',\n  'autoReduceMargin': '0.075',\n  'maintenanceMargin': '0.02',\n  'minInitialMargin': '0.1',\n  'minAutoReduceMargin': '0.05',\n  'minMaintenanceMargin': '0.013',\n  'expiryDate': 1651219200000,\n  'filters': [{'filterType': 'PRICE_FILTER',\n    'minPrice': '1971.75',\n    'maxPrice': '4274.49',\n    'tickSize': '0.01'},\n   {'filterType': 'LOT_SIZE',\n    'minQty': '0.0002',\n    'maxQty': '10000',\n    'stepSize': '0.0001'}]},\n {'id': 3371,\n  'contractId': 1,\n  'underlying': 'BTCUSDT',\n  'quoteAsset': 'USDT',\n  'symbol': 'BTC-220325-48000-P',\n  'unit': '1',\n  'minQty': '0.0002',\n  'maxQty': '10000',\n  'priceScale': 2,\n  'quantityScale': 4,\n  'side': 'PUT',\n  'leverage': '11',\n  'strikePrice': '48000',\n  'makerFeeRate': '0.0003',\n  'takerFeeRate': '0.0003',\n  'initialMargin': '0.15',\n  'autoReduceMargin': '0.075',\n  'maintenanceMargin': '0.02',\n  'minInitialMargin': '0.1',\n  'minAutoReduceMargin': '0.05',\n  'minMaintenanceMargin': '0.013',\n  'expiryDate': 1648195200000,\n  'filters': [{'filterType': 'PRICE_FILTER',\n    'minPrice': '3186.37',\n    'maxPrice': '4510.91',\n    'tickSize': '0.01'},\n   {'filterType': 'LOT_SIZE',\n    'minQty': '0.0002',\n    'maxQty': '10000',\n    'stepSize': '0.0001'}]},\n {'id': 3207,\n  'contractId': 1,\n  'underlying': 'BTCUSDT',\n  'quoteAsset': 'USDT',\n  'symbol': 'BTC-220429-60000-P',\n  'unit': '1',\n  'minQty': '0.0002',\n  'maxQty': '10000',\n  'priceScale': 2,\n  'quantityScale': 4,\n  'side': 'PUT',\n  'leverage': '2',\n  'strikePrice': '60000',\n  'makerFeeRate': '0.0003',\n  'takerFeeRate': '0.0003',\n  'initialMargin': '0.15',\n  'autoReduceMargin': '0.075',\n  'maintenanceMargin': '0.02',\n  'minInitialMargin': '0.1',\n  'minAutoReduceMargin': '0.05',\n  'minMaintenanceMargin': '0.013',\n  'expiryDate': 1651219200000,\n  'filters': [{'filterType': 'PRICE_FILTER',\n    'minPrice': '15581.94',\n    'maxPrice': '16906.48',\n    'tickSize': '0.01'},\n   {'filterType': 'LOT_SIZE',\n    'minQty': '0.0002',\n    'maxQty': '10000',\n    'stepSize': '0.0001'}]},\n {'id': 3039,\n  'contractId': 1,\n  'underlying': 'BTCUSDT',\n  'quoteAsset': 'USDT',\n  'symbol': 'BTC-220325-80000-P',\n  'unit': '1',\n  'minQty': '0.0002',\n  'maxQty': '10000',\n  'priceScale': 2,\n  'quantityScale': 4,\n  'side': 'PUT',\n  'leverage': '1',\n  'strikePrice': '80000',\n  'makerFeeRate': '0.0003',\n  'takerFeeRate': '0.0003',\n  'initialMargin': '0.15',\n  'autoReduceMargin': '0.075',\n  'maintenanceMargin': '0.02',\n  'minInitialMargin': '0.1',\n  'minAutoReduceMargin': '0.05',\n  'minMaintenanceMargin': '0.013',\n  'expiryDate': 1648195200000,\n  'filters': [{'filterType': 'PRICE_FILTER',\n    'minPrice': '35186.37',\n    'maxPrice': '36510.91',\n    'tickSize': '0.01'},\n   {'filterType': 'LOT_SIZE',\n    'minQty': '0.0002',\n    'maxQty': '10000',\n    'stepSize': '0.0001'}]},\n {'id': 3023,\n  'contractId': 1,\n  'underlying': 'BTCUSDT',\n  'quoteAsset': 'USDT',\n  'symbol': 'BTC-220325-50000-P',\n  'unit': '1',\n  'minQty': '0.0002',\n  'maxQty': '10000',\n  'priceScale': 2,\n  'quantityScale': 4,\n  'side': 'PUT',\n  'leverage': '7',\n  'strikePrice': '50000',\n  'makerFeeRate': '0.0003',\n  'takerFeeRate': '0.0003',\n  'initialMargin': '0.15',\n  'autoReduceMargin': '0.075',\n  'maintenanceMargin': '0.02',\n  'minInitialMargin': '0.1',\n  'minAutoReduceMargin': '0.05',\n  'minMaintenanceMargin': '0.013',\n  'expiryDate': 1648195200000,\n  'filters': [{'filterType': 'PRICE_FILTER',\n    'minPrice': '5186.37',\n    'maxPrice': '6510.91',\n    'tickSize': '0.01'},\n   {'filterType': 'LOT_SIZE',\n    'minQty': '0.0002',\n    'maxQty': '10000',\n    'stepSize': '0.0001'}]},\n {'id': 3199,\n  'contractId': 1,\n  'underlying': 'BTCUSDT',\n  'quoteAsset': 'USDT',\n  'symbol': 'BTC-220429-45000-P',\n  'unit': '1',\n  'minQty': '0.0002',\n  'maxQty': '10000',\n  'priceScale': 2,\n  'quantityScale': 4,\n  'side': 'PUT',\n  'leverage': '5',\n  'strikePrice': '45000',\n  'makerFeeRate': '0.0003',\n  'takerFeeRate': '0.0003',\n  'initialMargin': '0.15',\n  'autoReduceMargin': '0.075',\n  'maintenanceMargin': '0.02',\n  'minInitialMargin': '0.1',\n  'minAutoReduceMargin': '0.05',\n  'minMaintenanceMargin': '0.013',\n  'expiryDate': 1651219200000,\n  'filters': [{'filterType': 'PRICE_FILTER',\n    'minPrice': '2497.95',\n    'maxPrice': '5136.29',\n    'tickSize': '0.01'},\n   {'filterType': 'LOT_SIZE',\n    'minQty': '0.0002',\n    'maxQty': '10000',\n    'stepSize': '0.0001'}]},\n {'id': 3213,\n  'contractId': 1,\n  'underlying': 'BTCUSDT',\n  'quoteAsset': 'USDT',\n  'symbol': 'BTC-220429-80000-C',\n  'unit': '1',\n  'minQty': '0.0002',\n  'maxQty': '10000',\n  'priceScale': 2,\n  'quantityScale': 4,\n  'side': 'CALL',\n  'leverage': '11',\n  'strikePrice': '80000',\n  'makerFeeRate': '0.0003',\n  'takerFeeRate': '0.0003',\n  'initialMargin': '0.15',\n  'autoReduceMargin': '0.075',\n  'maintenanceMargin': '0.02',\n  'minInitialMargin': '0.1',\n  'minAutoReduceMargin': '0.05',\n  'minMaintenanceMargin': '0.013',\n  'expiryDate': 1651219200000,\n  'filters': [{'filterType': 'PRICE_FILTER',\n    'minPrice': '0.02',\n    'maxPrice': '1803.76',\n    'tickSize': '0.01'},\n   {'filterType': 'LOT_SIZE',\n    'minQty': '0.0002',\n    'maxQty': '10000',\n    'stepSize': '0.0001'}]},\n {'id': 3187,\n  'contractId': 1,\n  'underlying': 'BTCUSDT',\n  'quoteAsset': 'USDT',\n  'symbol': 'BTC-220429-30000-P',\n  'unit': '1',\n  'minQty': '0.0002',\n  'maxQty': '10000',\n  'priceScale': 2,\n  'quantityScale': 4,\n  'side': 'PUT',\n  'leverage': '7',\n  'strikePrice': '30000',\n  'makerFeeRate': '0.0003',\n  'takerFeeRate': '0.0003',\n  'initialMargin': '0.15',\n  'autoReduceMargin': '0.075',\n  'maintenanceMargin': '0.02',\n  'minInitialMargin': '0.1',\n  'minAutoReduceMargin': '0.05',\n  'minMaintenanceMargin': '0.013',\n  'expiryDate': 1651219200000,\n  'filters': [{'filterType': 'PRICE_FILTER',\n    'minPrice': '0.02',\n    'maxPrice': '1989.84',\n    'tickSize': '0.01'},\n   {'filterType': 'LOT_SIZE',\n    'minQty': '0.0002',\n    'maxQty': '10000',\n    'stepSize': '0.0001'}]},\n {'id': 3015,\n  'contractId': 1,\n  'underlying': 'BTCUSDT',\n  'quoteAsset': 'USDT',\n  'symbol': 'BTC-220325-40000-P',\n  'unit': '1',\n  'minQty': '0.0002',\n  'maxQty': '10000',\n  'priceScale': 2,\n  'quantityScale': 4,\n  'side': 'PUT',\n  'leverage': '9999',\n  'strikePrice': '40000',\n  'makerFeeRate': '0.0003',\n  'takerFeeRate': '0.0003',\n  'initialMargin': '0.15',\n  'autoReduceMargin': '0.075',\n  'maintenanceMargin': '0.02',\n  'minInitialMargin': '0.1',\n  'minAutoReduceMargin': '0.05',\n  'minMaintenanceMargin': '0.013',\n  'expiryDate': 1648195200000,\n  'filters': [{'filterType': 'PRICE_FILTER',\n    'minPrice': '0.02',\n    'maxPrice': '1766.06',\n    'tickSize': '0.01'},\n   {'filterType': 'LOT_SIZE',\n    'minQty': '0.0002',\n    'maxQty': '10000',\n    'stepSize': '0.0001'}]},\n {'id': 3019,\n  'contractId': 1,\n  'underlying': 'BTCUSDT',\n  'quoteAsset': 'USDT',\n  'symbol': 'BTC-220325-45000-P',\n  'unit': '1',\n  'minQty': '0.0002',\n  'maxQty': '10000',\n  'priceScale': 2,\n  'quantityScale': 4,\n  'side': 'PUT',\n  'leverage': '48',\n  'strikePrice': '45000',\n  'makerFeeRate': '0.0003',\n  'takerFeeRate': '0.0003',\n  'initialMargin': '0.15',\n  'autoReduceMargin': '0.075',\n  'maintenanceMargin': '0.02',\n  'minInitialMargin': '0.1',\n  'minAutoReduceMargin': '0.05',\n  'minMaintenanceMargin': '0.013',\n  'expiryDate': 1648195200000,\n  'filters': [{'filterType': 'PRICE_FILTER',\n    'minPrice': '198.2',\n    'maxPrice': '1522.74',\n    'tickSize': '0.01'},\n   {'filterType': 'LOT_SIZE',\n    'minQty': '0.0002',\n    'maxQty': '10000',\n    'stepSize': '0.0001'}]},\n {'id': 3369,\n  'contractId': 1,\n  'underlying': 'BTCUSDT',\n  'quoteAsset': 'USDT',\n  'symbol': 'BTC-220325-48000-C',\n  'unit': '1',\n  'minQty': '0.0002',\n  'maxQty': '10000',\n  'priceScale': 2,\n  'quantityScale': 4,\n  'side': 'CALL',\n  'leverage': '44',\n  'strikePrice': '48000',\n  'makerFeeRate': '0.0003',\n  'takerFeeRate': '0.0003',\n  'initialMargin': '0.15',\n  'autoReduceMargin': '0.075',\n  'maintenanceMargin': '0.02',\n  'minInitialMargin': '0.1',\n  'minAutoReduceMargin': '0.05',\n  'minMaintenanceMargin': '0.013',\n  'expiryDate': 1648195200000,\n  'filters': [{'filterType': 'PRICE_FILTER',\n    'minPrice': '0.02',\n    'maxPrice': '1766.06',\n    'tickSize': '0.01'},\n   {'filterType': 'LOT_SIZE',\n    'minQty': '0.0002',\n    'maxQty': '10000',\n    'stepSize': '0.0001'}]},\n {'id': 3029,\n  'contractId': 1,\n  'underlying': 'BTCUSDT',\n  'quoteAsset': 'USDT',\n  'symbol': 'BTC-220325-60000-C',\n  'unit': '1',\n  'minQty': '0.0002',\n  'maxQty': '10000',\n  'priceScale': 2,\n  'quantityScale': 4,\n  'side': 'CALL',\n  'leverage': '9999',\n  'strikePrice': '60000',\n  'makerFeeRate': '0.0003',\n  'takerFeeRate': '0.0003',\n  'initialMargin': '0.15',\n  'autoReduceMargin': '0.075',\n  'maintenanceMargin': '0.02',\n  'minInitialMargin': '0.1',\n  'minAutoReduceMargin': '0.05',\n  'minMaintenanceMargin': '0.013',\n  'expiryDate': 1648195200000,\n  'filters': [{'filterType': 'PRICE_FILTER',\n    'minPrice': '0.02',\n    'maxPrice': '1766.06',\n    'tickSize': '0.01'},\n   {'filterType': 'LOT_SIZE',\n    'minQty': '0.0002',\n    'maxQty': '10000',\n    'stepSize': '0.0001'}]},\n {'id': 3011,\n  'contractId': 1,\n  'underlying': 'BTCUSDT',\n  'quoteAsset': 'USDT',\n  'symbol': 'BTC-220325-35000-P',\n  'unit': '1',\n  'minQty': '0.0002',\n  'maxQty': '10000',\n  'priceScale': 2,\n  'quantityScale': 4,\n  'side': 'PUT',\n  'leverage': '9999',\n  'strikePrice': '35000',\n  'makerFeeRate': '0.0003',\n  'takerFeeRate': '0.0003',\n  'initialMargin': '0.15',\n  'autoReduceMargin': '0.075',\n  'maintenanceMargin': '0.02',\n  'minInitialMargin': '0.1',\n  'minAutoReduceMargin': '0.05',\n  'minMaintenanceMargin': '0.013',\n  'expiryDate': 1648195200000,\n  'filters': [{'filterType': 'PRICE_FILTER',\n    'minPrice': '0.02',\n    'maxPrice': '1766.06',\n    'tickSize': '0.01'},\n   {'filterType': 'LOT_SIZE',\n    'minQty': '0.0002',\n    'maxQty': '10000',\n    'stepSize': '0.0001'}]},\n {'id': 2999,\n  'contractId': 1,\n  'underlying': 'BTCUSDT',\n  'quoteAsset': 'USDT',\n  'symbol': 'BTC-220325-20000-P',\n  'unit': '1',\n  'minQty': '0.0002',\n  'maxQty': '10000',\n  'priceScale': 2,\n  'quantityScale': 4,\n  'side': 'PUT',\n  'leverage': '9999',\n  'strikePrice': '20000',\n  'makerFeeRate': '0.0003',\n  'takerFeeRate': '0.0003',\n  'initialMargin': '0.15',\n  'autoReduceMargin': '0.075',\n  'maintenanceMargin': '0.02',\n  'minInitialMargin': '0.1',\n  'minAutoReduceMargin': '0.05',\n  'minMaintenanceMargin': '0.013',\n  'expiryDate': 1648195200000,\n  'filters': [{'filterType': 'PRICE_FILTER',\n    'minPrice': '0.02',\n    'maxPrice': '1766.06',\n    'tickSize': '0.01'},\n   {'filterType': 'LOT_SIZE',\n    'minQty': '0.0002',\n    'maxQty': '10000',\n    'stepSize': '0.0001'}]},\n {'id': 2997,\n  'contractId': 1,\n  'underlying': 'BTCUSDT',\n  'quoteAsset': 'USDT',\n  'symbol': 'BTC-220325-20000-C',\n  'unit': '1',\n  'minQty': '0.0002',\n  'maxQty': '10000',\n  'priceScale': 2,\n  'quantityScale': 4,\n  'side': 'CALL',\n  'leverage': '1',\n  'strikePrice': '20000',\n  'makerFeeRate': '0.0003',\n  'takerFeeRate': '0.0003',\n  'initialMargin': '0.15',\n  'autoReduceMargin': '0.075',\n  'maintenanceMargin': '0.02',\n  'minInitialMargin': '0.1',\n  'minAutoReduceMargin': '0.05',\n  'minMaintenanceMargin': '0.013',\n  'expiryDate': 1648195200000,\n  'filters': [{'filterType': 'PRICE_FILTER',\n    'minPrice': '23489.08',\n    'maxPrice': '24813.62',\n    'tickSize': '0.01'},\n   {'filterType': 'LOT_SIZE',\n    'minQty': '0.0002',\n    'maxQty': '10000',\n    'stepSize': '0.0001'}]},\n {'id': 3005,\n  'contractId': 1,\n  'underlying': 'BTCUSDT',\n  'quoteAsset': 'USDT',\n  'symbol': 'BTC-220325-30000-C',\n  'unit': '1',\n  'minQty': '0.0002',\n  'maxQty': '10000',\n  'priceScale': 2,\n  'quantityScale': 4,\n  'side': 'CALL',\n  'leverage': '3',\n  'strikePrice': '30000',\n  'makerFeeRate': '0.0003',\n  'takerFeeRate': '0.0003',\n  'initialMargin': '0.15',\n  'autoReduceMargin': '0.075',\n  'maintenanceMargin': '0.02',\n  'minInitialMargin': '0.1',\n  'minAutoReduceMargin': '0.05',\n  'minMaintenanceMargin': '0.013',\n  'expiryDate': 1648195200000,\n  'filters': [{'filterType': 'PRICE_FILTER',\n    'minPrice': '13489.08',\n    'maxPrice': '14813.62',\n    'tickSize': '0.01'},\n   {'filterType': 'LOT_SIZE',\n    'minQty': '0.0002',\n    'maxQty': '10000',\n    'stepSize': '0.0001'}]}]"
     },
     "execution_count": 92,
     "metadata": {},
     "output_type": "execute_result"
    }
   ],
   "source": [
    "temp"
   ],
   "metadata": {
    "collapsed": false,
    "pycharm": {
     "name": "#%%\n"
    }
   }
  },
  {
   "cell_type": "code",
   "execution_count": 85,
   "outputs": [
    {
     "data": {
      "text/plain": "35.06378472222222"
     },
     "execution_count": 85,
     "metadata": {},
     "output_type": "execute_result"
    }
   ],
   "source": [
    "left_days = (df['expiryDate'].loc[df.symbol == 'BTC-220429-45000-C'].values[0] / 1000 - round(time.time())) / (3600 * 24)"
   ],
   "metadata": {
    "collapsed": false,
    "pycharm": {
     "name": "#%%\n"
    }
   }
  },
  {
   "cell_type": "code",
   "execution_count": 53,
   "outputs": [
    {
     "data": {
      "text/plain": "'3038.51'"
     },
     "execution_count": 53,
     "metadata": {},
     "output_type": "execute_result"
    }
   ],
   "source": [
    "temp[0]['bidPrice']"
   ],
   "metadata": {
    "collapsed": false,
    "pycharm": {
     "name": "#%%\n"
    }
   }
  },
  {
   "cell_type": "code",
   "execution_count": 54,
   "outputs": [
    {
     "data": {
      "text/plain": "'3201.45'"
     },
     "execution_count": 54,
     "metadata": {},
     "output_type": "execute_result"
    }
   ],
   "source": [
    "temp[0]['askPrice']"
   ],
   "metadata": {
    "collapsed": false,
    "pycharm": {
     "name": "#%%\n"
    }
   }
  },
  {
   "cell_type": "code",
   "execution_count": null,
   "outputs": [],
   "source": [
    "\"\""
   ],
   "metadata": {
    "collapsed": false,
    "pycharm": {
     "name": "#%%\n"
    }
   }
  },
  {
   "cell_type": "code",
   "execution_count": 48,
   "outputs": [
    {
     "data": {
      "text/plain": "{'code': 0,\n 'msg': 'success',\n 'data': [{'symbol': 'BTC-220429-45000-C',\n   'markPrice': '3101.22',\n   'bidIV': '0.6274',\n   'askIV': '0.6504',\n   'delta': '0.50055',\n   'theta': '-49.71587',\n   'gamma': '0.00005',\n   'vega': '54.58233',\n   'volatility': '0.63889',\n   'highPriceLimit': '4251.72',\n   'lowPriceLimit': '1950.72'}]}"
     },
     "execution_count": 48,
     "metadata": {},
     "output_type": "execute_result"
    }
   ],
   "source": [
    "client.get_mark_price(symbol='BTC-220429-45000-C')"
   ],
   "metadata": {
    "collapsed": false,
    "pycharm": {
     "name": "#%%\n"
    }
   }
  },
  {
   "cell_type": "code",
   "execution_count": null,
   "outputs": [],
   "source": [],
   "metadata": {
    "collapsed": false,
    "pycharm": {
     "name": "#%%\n"
    }
   }
  },
  {
   "cell_type": "code",
   "execution_count": null,
   "outputs": [],
   "source": [
    "def get_option_info():\n",
    "    path = \"/vapi/v1/optionInfo\"\n",
    "    url = urljoin(base_url, path)\n"
   ],
   "metadata": {
    "collapsed": false,
    "pycharm": {
     "name": "#%%\n"
    }
   }
  }
 ],
 "metadata": {
  "kernelspec": {
   "display_name": "Python 3",
   "language": "python",
   "name": "python3"
  },
  "language_info": {
   "codemirror_mode": {
    "name": "ipython",
    "version": 2
   },
   "file_extension": ".py",
   "mimetype": "text/x-python",
   "name": "python",
   "nbconvert_exporter": "python",
   "pygments_lexer": "ipython2",
   "version": "2.7.6"
  }
 },
 "nbformat": 4,
 "nbformat_minor": 0
}