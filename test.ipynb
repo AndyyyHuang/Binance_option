{
 "cells": [
  {
   "cell_type": "code",
   "execution_count": 2,
   "metadata": {
    "collapsed": true
   },
   "outputs": [],
   "source": [
    "from backup.mongo_class import my_mongo\n",
    "from binance import Client\n",
    "from pandas import DataFrame, to_datetime, Timestamp\n",
    "from datetime import datetime, timedelta\n",
    "from tqdm import tqdm\n",
    "from numpy import *\n",
    "from scipy.stats import norm"
   ]
  },
  {
   "cell_type": "code",
   "execution_count": 3,
   "outputs": [],
   "source": [
    "mongo = my_mongo()"
   ],
   "metadata": {
    "collapsed": false,
    "pycharm": {
     "name": "#%%\n"
    }
   }
  },
  {
   "cell_type": "code",
   "execution_count": 10,
   "outputs": [],
   "source": [
    "data = mongo.col_to_df('cex_trade', 'binance_kline_data', {'base_token': 'BTC'})"
   ],
   "metadata": {
    "collapsed": false,
    "pycharm": {
     "name": "#%%\n"
    }
   }
  },
  {
   "cell_type": "code",
   "execution_count": null,
   "outputs": [],
   "source": [],
   "metadata": {
    "collapsed": false,
    "pycharm": {
     "name": "#%%\n"
    }
   }
  },
  {
   "cell_type": "code",
   "execution_count": 7,
   "outputs": [],
   "source": [
    "def cal_BS_option_price(S, K, T, r, b, sigma, iscall: bool):\n",
    "    \"\"\"\n",
    "\n",
    "    :param S:\n",
    "    :param K:\n",
    "    :param T:\n",
    "    :param r: risk——free\n",
    "    :param b: dividend yield for crypto currency, b=0\n",
    "    :param sigma:\n",
    "    :param iscall:\n",
    "    :return:\n",
    "    \"\"\"\n",
    "    real_r = r - b\n",
    "    d1 = (log(S/K) + (real_r + 0.5*sigma**2) * T)/(sigma*sqrt(T))\n",
    "    d2 = d1 - sigma * sqrt(T)\n",
    "    if iscall:\n",
    "        return S * norm.cdf(d1) - K * exp(-real_r * T) * norm.cdf(d2)\n",
    "    else:\n",
    "        return -S * norm.cdf(-d1) + K * exp(-real_r * T) * norm.cdf(-d2)"
   ],
   "metadata": {
    "collapsed": false,
    "pycharm": {
     "name": "#%%\n"
    }
   }
  },
  {
   "cell_type": "code",
   "execution_count": 5,
   "outputs": [],
   "source": [
    "def cal_iv(P, S, K, T, r, b, iscall: bool, method: str='binary'):\n",
    "    \"\"\"\n",
    "\n",
    "    :param P:\n",
    "    :param S:\n",
    "    :param K:\n",
    "    :param T:\n",
    "    :param r:\n",
    "    :param b:\n",
    "    :param iscall:\n",
    "    :param method:\n",
    "    :return:\n",
    "    \"\"\"\n",
    "    if method == 'binary':\n",
    "        sigma_up = 1\n",
    "        sigma_down = 0.001\n",
    "        sigma_mid = (sigma_up+sigma_down)/2\n",
    "        while abs(cal_BS_option_price(S, K, T, r, b, sigma_mid, iscall) - P) > 0.0001:\n",
    "            if cal_BS_option_price(S, K, T, r, b, sigma_down, iscall) < P < cal_BS_option_price(S, K, T, r, b, sigma_mid, iscall):\n",
    "                sigma_up = sigma_mid\n",
    "                sigma_mid = (sigma_up+sigma_down)/2\n",
    "            else:\n",
    "                sigma_down=sigma_mid\n",
    "                sigma_mid=(sigma_up+sigma_down)/2\n",
    "        return sigma_mid\n",
    "\n",
    "    elif method == 'newton':\n",
    "        pass\n"
   ],
   "metadata": {
    "collapsed": false,
    "pycharm": {
     "name": "#%%\n"
    }
   }
  },
  {
   "cell_type": "code",
   "execution_count": 6,
   "outputs": [],
   "source": [
    "def cal_delta(S, K, sigma, r, b, T, iscall: bool):\n",
    "    real_r = r - b\n",
    "    d1 = (log(S/K) + (real_r + 0.5*sigma**2) * T)/(sigma*sqrt(T))\n",
    "    if iscall:\n",
    "        delta = norm.cdf(d1)\n",
    "    else:\n",
    "        delta = norm.cdf(d1) - 1\n",
    "    return delta"
   ],
   "metadata": {
    "collapsed": false,
    "pycharm": {
     "name": "#%%\n"
    }
   }
  },
  {
   "cell_type": "code",
   "execution_count": 8,
   "outputs": [],
   "source": [
    "def cal_gamma(S, K, sigma, r, b, T):\n",
    "    real_r = r - b\n",
    "    d1 = (log(S/K) + (real_r + 0.5*sigma**2) * T)/(sigma*sqrt(T))\n",
    "    return exp(-d1**2 / 2)/(S * sigma * sqrt(2*pi*T))"
   ],
   "metadata": {
    "collapsed": false,
    "pycharm": {
     "name": "#%%\n"
    }
   }
  },
  {
   "cell_type": "code",
   "execution_count": null,
   "outputs": [],
   "source": [
    "def cal_theta(S, K, sigma, r, b, T, iscall: bool):\n",
    "    real_r = r - b\n",
    "    d1 = (log(S/K) + (real_r + 0.5*sigma**2) * T)/(sigma*sqrt(T))\n",
    "    d2 = d1 - sigma * sqrt(T)\n",
    "    theta_call = -(S * sigma * exp(-d1**2 / 2)) / (2 * sqrt(2*pi*T)) - real_r * K * exp(-real_r * T) * norm.cdf(d2)\n",
    "    if iscall:\n",
    "        theta = theta_call\n",
    "    else:\n",
    "        theta = theta_call + real_r * K * exp(-r*T)\n",
    "    return theta"
   ],
   "metadata": {
    "collapsed": false,
    "pycharm": {
     "name": "#%%\n"
    }
   }
  },
  {
   "cell_type": "code",
   "execution_count": 9,
   "outputs": [],
   "source": [
    "def cal_vega(S, K, r, b, T, sigma):\n",
    "    real_r = r - b\n",
    "    d1 = (log(S/K) + (real_r + 0.5*sigma**2) * T)/(sigma*sqrt(T))\n",
    "    vega = S * norm.pdf(d1) * sqrt(real_r) / 100\n",
    "    return vega"
   ],
   "metadata": {
    "collapsed": false,
    "pycharm": {
     "name": "#%%\n"
    }
   }
  },
  {
   "cell_type": "code",
   "execution_count": null,
   "outputs": [],
   "source": [
    "expire_date = \"2022-03-25 00:00:00\""
   ],
   "metadata": {
    "collapsed": false,
    "pycharm": {
     "name": "#%%\n"
    }
   }
  },
  {
   "cell_type": "code",
   "execution_count": null,
   "outputs": [],
   "source": [],
   "metadata": {
    "collapsed": false,
    "pycharm": {
     "name": "#%%\n"
    }
   }
  },
  {
   "cell_type": "code",
   "execution_count": 23,
   "outputs": [
    {
     "ename": "TypeError",
     "evalue": "unsupported operand type(s) for /: 'Timestamp' and 'datetime.timedelta'",
     "output_type": "error",
     "traceback": [
      "\u001B[0;31m---------------------------------------------------------------------------\u001B[0m",
      "\u001B[0;31mTypeError\u001B[0m                                 Traceback (most recent call last)",
      "\u001B[0;32m/var/folders/cy/1bzmhwzs18z7mxd8b0kfm3s00000gn/T/ipykernel_52699/3604620264.py\u001B[0m in \u001B[0;36m<module>\u001B[0;34m\u001B[0m\n\u001B[0;32m----> 1\u001B[0;31m \u001B[0mto_datetime\u001B[0m\u001B[0;34m(\u001B[0m\u001B[0mexpire_date\u001B[0m\u001B[0;34m)\u001B[0m \u001B[0;34m-\u001B[0m \u001B[0mto_datetime\u001B[0m\u001B[0;34m(\u001B[0m\u001B[0mdata\u001B[0m\u001B[0;34m[\u001B[0m\u001B[0;34m'start_time'\u001B[0m\u001B[0;34m]\u001B[0m\u001B[0;34m[\u001B[0m\u001B[0;36m0\u001B[0m\u001B[0;34m]\u001B[0m\u001B[0;34m)\u001B[0m \u001B[0;34m/\u001B[0m \u001B[0mtimedelta\u001B[0m\u001B[0;34m(\u001B[0m\u001B[0mdays\u001B[0m\u001B[0;34m=\u001B[0m\u001B[0;36m1\u001B[0m\u001B[0;34m)\u001B[0m\u001B[0;34m\u001B[0m\u001B[0;34m\u001B[0m\u001B[0m\n\u001B[0m",
      "\u001B[0;31mTypeError\u001B[0m: unsupported operand type(s) for /: 'Timestamp' and 'datetime.timedelta'"
     ]
    }
   ],
   "source": [
    "to_datetime(expire_date) - to_datetime(data['start_time'][0]) / timedelta(days=1)"
   ],
   "metadata": {
    "collapsed": false,
    "pycharm": {
     "name": "#%%\n"
    }
   }
  },
  {
   "cell_type": "code",
   "execution_count": 25,
   "outputs": [
    {
     "ename": "TypeError",
     "evalue": "Cannot convert input [1 day, 0:00:00] of type <class 'datetime.timedelta'> to Timestamp",
     "output_type": "error",
     "traceback": [
      "\u001B[0;31m---------------------------------------------------------------------------\u001B[0m",
      "\u001B[0;31mTypeError\u001B[0m                                 Traceback (most recent call last)",
      "\u001B[0;32m/var/folders/cy/1bzmhwzs18z7mxd8b0kfm3s00000gn/T/ipykernel_52699/4244176506.py\u001B[0m in \u001B[0;36m<module>\u001B[0;34m\u001B[0m\n\u001B[0;32m----> 1\u001B[0;31m \u001B[0mTimestamp\u001B[0m\u001B[0;34m(\u001B[0m\u001B[0mtimedelta\u001B[0m\u001B[0;34m(\u001B[0m\u001B[0mdays\u001B[0m\u001B[0;34m=\u001B[0m\u001B[0;36m1\u001B[0m\u001B[0;34m)\u001B[0m\u001B[0;34m)\u001B[0m\u001B[0;34m\u001B[0m\u001B[0;34m\u001B[0m\u001B[0m\n\u001B[0m",
      "\u001B[0;32m~/opt/anaconda3/lib/python3.9/site-packages/pandas/_libs/tslibs/timestamps.pyx\u001B[0m in \u001B[0;36mpandas._libs.tslibs.timestamps.Timestamp.__new__\u001B[0;34m()\u001B[0m\n",
      "\u001B[0;32m~/opt/anaconda3/lib/python3.9/site-packages/pandas/_libs/tslibs/conversion.pyx\u001B[0m in \u001B[0;36mpandas._libs.tslibs.conversion.convert_to_tsobject\u001B[0;34m()\u001B[0m\n",
      "\u001B[0;31mTypeError\u001B[0m: Cannot convert input [1 day, 0:00:00] of type <class 'datetime.timedelta'> to Timestamp"
     ]
    }
   ],
   "source": [
    "Timestamp"
   ],
   "metadata": {
    "collapsed": false,
    "pycharm": {
     "name": "#%%\n"
    }
   }
  },
  {
   "cell_type": "code",
   "execution_count": null,
   "outputs": [],
   "source": [
    "cal_iv()"
   ],
   "metadata": {
    "collapsed": false,
    "pycharm": {
     "name": "#%%\n"
    }
   }
  }
 ],
 "metadata": {
  "kernelspec": {
   "display_name": "Python 3",
   "language": "python",
   "name": "python3"
  },
  "language_info": {
   "codemirror_mode": {
    "name": "ipython",
    "version": 2
   },
   "file_extension": ".py",
   "mimetype": "text/x-python",
   "name": "python",
   "nbconvert_exporter": "python",
   "pygments_lexer": "ipython2",
   "version": "2.7.6"
  }
 },
 "nbformat": 4,
 "nbformat_minor": 0
}