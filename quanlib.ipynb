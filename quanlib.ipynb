{
 "cells": [
  {
   "cell_type": "code",
   "execution_count": 1,
   "outputs": [],
   "source": [
    "import QuantLib as ql"
   ],
   "metadata": {
    "collapsed": false,
    "pycharm": {
     "name": "#%%\n"
    }
   }
  },
  {
   "cell_type": "code",
   "execution_count": 4,
   "metadata": {
    "collapsed": true
   },
   "outputs": [],
   "source": [
    "# 配置日期计算条款\n",
    "calendar = ql.UnitedStates(ql.UnitedStates.NYSE)\n",
    "dayCounter = ql.Actual365Fixed(ql.Actual365Fixed.Standard)\n",
    "\n",
    "todayDate = ql.Date(11, ql.July, 2019)\n",
    "maturity = todayDate + ql.Period(20, ql.Weeks)\n",
    "settlementDate = todayDate\n",
    "\n",
    "# 配置期权参数\n",
    "stock = 49\n",
    "strike = 50\n",
    "riskFreeRate = 0.05\n",
    "volatility = 0.2\n",
    "\n",
    "# 配置全局估值日期\n",
    "ql.Settings.instance().evaluationDate = todayDate\n",
    "\n",
    "# 配置行权条款\n",
    "europeanExercise = ql.EuropeanExercise(maturity)\n",
    "optionType = ql.Option.Call\n",
    "payoff = ql.PlainVanillaPayoff(\n",
    "    type=optionType, strike=strike)\n",
    "\n",
    "# 构建期权对象\n",
    "europeanOption = ql.VanillaOption(\n",
    "    payoff=payoff,\n",
    "    exercise=europeanExercise)"
   ]
  },
  {
   "cell_type": "code",
   "execution_count": 5,
   "outputs": [],
   "source": [
    "underlying = ql.SimpleQuote(stock)\n",
    "underlyingH = ql.QuoteHandle(underlying)\n",
    "\n",
    "# 无风险利率的期限结构\n",
    "flatRiskFreeTS = ql.YieldTermStructureHandle(\n",
    "    ql.FlatForward(\n",
    "        settlementDate, riskFreeRate, dayCounter))\n",
    "\n",
    "# 波动率的期限结构\n",
    "flatVolTS = ql.BlackVolTermStructureHandle(\n",
    "    ql.BlackConstantVol(\n",
    "        settlementDate, calendar,\n",
    "        volatility, dayCounter))\n",
    "\n",
    "# 构建 BS 过程\n",
    "bsProcess = ql.BlackScholesProcess(\n",
    "    s0=underlyingH,\n",
    "    riskFreeTS=flatRiskFreeTS,\n",
    "    volTS=flatVolTS)\n",
    "\n",
    "# 基于 BS 过程的公式定价引擎\n",
    "pricingEngine = ql.AnalyticEuropeanEngine(\n",
    "    bsProcess)\n",
    "\n",
    "europeanOption.setPricingEngine(pricingEngine)"
   ],
   "metadata": {
    "collapsed": false,
    "pycharm": {
     "name": "#%%\n"
    }
   }
  },
  {
   "cell_type": "code",
   "execution_count": 6,
   "outputs": [
    {
     "name": "stdout",
     "output_type": "stream",
     "text": [
      "Option value = 2.395988448539984\n",
      "Delta value  = 0.5213970624832108\n",
      "Theta value  = -4.309457134907618\n",
      "Theta perday = -0.011806731876459226\n",
      "Gamma value  = 0.06563585494066533\n",
      "Vega value   = 12.089225358769994\n",
      "Rho value    = 8.88039853654583\n"
     ]
    }
   ],
   "source": [
    "print(\"Option value =\", europeanOption.NPV())\n",
    "print(\"Delta value  =\", europeanOption.delta())\n",
    "print(\"Theta value  =\", europeanOption.theta())\n",
    "print(\"Theta perday =\", europeanOption.thetaPerDay())\n",
    "print(\"Gamma value  =\", europeanOption.gamma())\n",
    "print(\"Vega value   =\", europeanOption.vega())\n",
    "print(\"Rho value    =\", europeanOption.rho())"
   ],
   "metadata": {
    "collapsed": false,
    "pycharm": {
     "name": "#%%\n"
    }
   }
  },
  {
   "cell_type": "code",
   "execution_count": null,
   "outputs": [],
   "source": [],
   "metadata": {
    "collapsed": false,
    "pycharm": {
     "name": "#%%\n"
    }
   }
  }
 ],
 "metadata": {
  "kernelspec": {
   "display_name": "Python 3",
   "language": "python",
   "name": "python3"
  },
  "language_info": {
   "codemirror_mode": {
    "name": "ipython",
    "version": 2
   },
   "file_extension": ".py",
   "mimetype": "text/x-python",
   "name": "python",
   "nbconvert_exporter": "python",
   "pygments_lexer": "ipython2",
   "version": "2.7.6"
  }
 },
 "nbformat": 4,
 "nbformat_minor": 0
}